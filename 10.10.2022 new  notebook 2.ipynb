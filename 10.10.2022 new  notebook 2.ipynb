{
    "cells": [
        {
            "cell_type": "code",
            "execution_count": 2,
            "metadata": {},
            "outputs": [
                {
                    "data": {
                        "text/html": "<div>\n<style scoped>\n    .dataframe tbody tr th:only-of-type {\n        vertical-align: middle;\n    }\n\n    .dataframe tbody tr th {\n        vertical-align: top;\n    }\n\n    .dataframe thead th {\n        text-align: right;\n    }\n</style>\n<table border=\"1\" class=\"dataframe\">\n  <thead>\n    <tr style=\"text-align: right;\">\n      <th></th>\n      <th>Id</th>\n      <th>ActivityDay</th>\n      <th>Calories</th>\n    </tr>\n  </thead>\n  <tbody>\n    <tr>\n      <th>0</th>\n      <td>1503960366</td>\n      <td>4/12/2016</td>\n      <td>1985</td>\n    </tr>\n    <tr>\n      <th>1</th>\n      <td>1503960366</td>\n      <td>4/13/2016</td>\n      <td>1797</td>\n    </tr>\n    <tr>\n      <th>2</th>\n      <td>1503960366</td>\n      <td>4/14/2016</td>\n      <td>1776</td>\n    </tr>\n    <tr>\n      <th>3</th>\n      <td>1503960366</td>\n      <td>4/15/2016</td>\n      <td>1745</td>\n    </tr>\n    <tr>\n      <th>4</th>\n      <td>1503960366</td>\n      <td>4/16/2016</td>\n      <td>1863</td>\n    </tr>\n  </tbody>\n</table>\n</div>",
                        "text/plain": "           Id ActivityDay  Calories\n0  1503960366   4/12/2016      1985\n1  1503960366   4/13/2016      1797\n2  1503960366   4/14/2016      1776\n3  1503960366   4/15/2016      1745\n4  1503960366   4/16/2016      1863"
                    },
                    "execution_count": 2,
                    "metadata": {},
                    "output_type": "execute_result"
                }
            ],
            "source": "# The code was removed by Watson Studio for sharing."
        },
        {
            "cell_type": "code",
            "execution_count": null,
            "metadata": {},
            "outputs": [],
            "source": ""
        }
    ],
    "metadata": {
        "kernelspec": {
            "display_name": "Python 3.9",
            "language": "python",
            "name": "python3"
        },
        "language_info": {
            "codemirror_mode": {
                "name": "ipython",
                "version": 3
            },
            "file_extension": ".py",
            "mimetype": "text/x-python",
            "name": "python",
            "nbconvert_exporter": "python",
            "pygments_lexer": "ipython3",
            "version": "3.9.12"
        }
    },
    "nbformat": 4,
    "nbformat_minor": 1
}